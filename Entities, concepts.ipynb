{
 "cells": [
  {
   "cell_type": "code",
   "execution_count": 1,
   "metadata": {
    "ExecuteTime": {
     "end_time": "2017-06-25T22:36:20.229302Z",
     "start_time": "2017-06-26T00:36:20.146667+02:00"
    },
    "slideshow": {
     "slide_type": "skip"
    }
   },
   "outputs": [
    {
     "name": "stderr",
     "output_type": "stream",
     "text": [
      "/Users/gorosz/anaconda3/lib/python3.6/site-packages/IPython/html.py:14: ShimWarning: The `IPython.html` package has been deprecated. You should import from `notebook` instead. `IPython.html.widgets` has moved to `ipywidgets`.\n",
      "  \"`IPython.html.widgets` has moved to `ipywidgets`.\", ShimWarning)\n"
     ]
    },
    {
     "data": {
      "text/plain": [
       "{'scroll': True,\n",
       " 'slideNumber': True,\n",
       " 'start_slideshow_at': 'selected',\n",
       " 'theme': 'simple',\n",
       " 'transition': 'linear'}"
      ]
     },
     "execution_count": 1,
     "metadata": {},
     "output_type": "execute_result"
    }
   ],
   "source": [
    "from IPython.html.services.config import ConfigManager\n",
    "from IPython.paths import locate_profile\n",
    "cm = ConfigManager(profile_dir=locate_profile(get_ipython().profile))\n",
    "\n",
    "cm.update('notebook', {\"load_extensions\": {\"livereveal/main\": True}})\n",
    "cm.update('livereveal', {\n",
    "    'theme': 'simple',\n",
    "    'transition': 'linear',\n",
    "    'slideNumber': True,\n",
    "    'start_slideshow_at': 'selected',\n",
    "    'scroll': True,\n",
    "})"
   ]
  },
  {
   "cell_type": "markdown",
   "metadata": {
    "ExecuteTime": {
     "end_time": "2017-06-23T14:55:58.336410Z",
     "start_time": "2017-06-23T16:55:58.334064+02:00"
    },
    "slideshow": {
     "slide_type": "slide"
    }
   },
   "source": [
    "# Named entity recognition"
   ]
  },
  {
   "cell_type": "markdown",
   "metadata": {
    "ExecuteTime": {
     "end_time": "2017-06-23T15:07:01.486309Z",
     "start_time": "2017-06-23T17:07:01.312446+02:00"
    },
    "slideshow": {
     "slide_type": "subslide"
    }
   },
   "source": [
    "![NER](./img/ner.png)"
   ]
  },
  {
   "cell_type": "markdown",
   "metadata": {
    "slideshow": {
     "slide_type": "subslide"
    }
   },
   "source": [
    "... is the task of **identifying** and **classifying** named entities into predefined categories\n",
    "\n",
    "* various corpora exists for english (CONLL 2013, MUC-7, Wikipedia!)\n",
    "* Predefined categories are: **PER, LOC, ORG, MISC**, DATE, NUM, ...\n",
    "* State-of-the-art performance (for English) is around 90% F-score\n",
    "* usually approached as a sequence classification problem (MaxEnt, CRF models are common)\n",
    "* BIO or BILOU tagging scheme"
   ]
  },
  {
   "cell_type": "markdown",
   "metadata": {
    "ExecuteTime": {
     "end_time": "2017-06-25T21:59:32.176470Z",
     "start_time": "2017-06-25T23:59:32.153428+02:00"
    },
    "slideshow": {
     "slide_type": "slide"
    }
   },
   "source": [
    "## Anatomy of spaCy's NER"
   ]
  },
  {
   "cell_type": "code",
   "execution_count": 13,
   "metadata": {
    "ExecuteTime": {
     "end_time": "2017-06-25T22:38:52.649132Z",
     "start_time": "2017-06-26T00:38:34.959139+02:00"
    },
    "collapsed": true,
    "slideshow": {
     "slide_type": "subslide"
    }
   },
   "outputs": [],
   "source": [
    "from spacy.en import English\n",
    "\n",
    "enlp = English()"
   ]
  },
  {
   "cell_type": "code",
   "execution_count": 14,
   "metadata": {
    "ExecuteTime": {
     "end_time": "2017-06-25T22:38:52.691005Z",
     "start_time": "2017-06-26T00:38:52.657577+02:00"
    },
    "collapsed": true,
    "slideshow": {
     "slide_type": "fragment"
    }
   },
   "outputs": [],
   "source": [
    "doc = enlp(\"President Trump has a new morning ritual. Around 6:30 a.m. on many days — \"\n",
    "    \"before all the network news shows have come on the air — \"\n",
    "    \"he gets on the phone with a member of his outside legal team to chew over all things Russia.\")"
   ]
  },
  {
   "cell_type": "code",
   "execution_count": 4,
   "metadata": {
    "ExecuteTime": {
     "end_time": "2017-06-25T22:36:57.278590Z",
     "start_time": "2017-06-26T00:36:57.252319+02:00"
    },
    "slideshow": {
     "slide_type": "fragment"
    }
   },
   "outputs": [
    {
     "data": {
      "text/plain": [
       "(Trump, 6:30 a.m. on, Russia)"
      ]
     },
     "execution_count": 4,
     "metadata": {},
     "output_type": "execute_result"
    }
   ],
   "source": [
    "doc.ents"
   ]
  },
  {
   "cell_type": "markdown",
   "metadata": {
    "slideshow": {
     "slide_type": "subslide"
    }
   },
   "source": [
    "spaCy recognizes [10+7 NE types](https://spacy.io/docs/usage/entity-recognition#entity-types)"
   ]
  },
  {
   "cell_type": "code",
   "execution_count": 5,
   "metadata": {
    "ExecuteTime": {
     "end_time": "2017-06-25T22:36:57.293477Z",
     "start_time": "2017-06-26T00:36:57.282132+02:00"
    },
    "slideshow": {
     "slide_type": "fragment"
    }
   },
   "outputs": [
    {
     "data": {
      "text/plain": [
       "['Trump/PERSON', '6:30 a.m. on/TIME', 'Russia/GPE']"
      ]
     },
     "execution_count": 5,
     "metadata": {},
     "output_type": "execute_result"
    }
   ],
   "source": [
    "[\"{}/{}\".format(ent.text, ent.label_) for ent in doc.ents]"
   ]
  },
  {
   "cell_type": "code",
   "execution_count": 6,
   "metadata": {
    "ExecuteTime": {
     "end_time": "2017-06-25T22:36:57.316929Z",
     "start_time": "2017-06-26T00:36:57.296241+02:00"
    },
    "slideshow": {
     "slide_type": "fragment"
    }
   },
   "outputs": [
    {
     "name": "stdout",
     "output_type": "stream",
     "text": [
      "President O \n",
      "Trump B PERSON\n",
      "has O \n",
      "a O \n",
      "new O \n",
      "morning O \n",
      "ritual O \n",
      ". O \n",
      "Around O \n",
      "6:30 B TIME\n"
     ]
    }
   ],
   "source": [
    "for tok in doc[:10]:\n",
    "    print(tok, tok.ent_iob_, tok.ent_type_)"
   ]
  },
  {
   "cell_type": "markdown",
   "metadata": {
    "ExecuteTime": {
     "end_time": "2017-06-23T15:13:32.180209Z",
     "start_time": "2017-06-23T17:13:32.177195+02:00"
    },
    "slideshow": {
     "slide_type": "slide"
    }
   },
   "source": [
    "## Spacy does not know Hungarian NEs (yet)"
   ]
  },
  {
   "cell_type": "markdown",
   "metadata": {
    "ExecuteTime": {
     "end_time": "2017-06-23T15:14:04.976748Z",
     "start_time": "2017-06-23T17:14:04.972105+02:00"
    },
    "slideshow": {
     "slide_type": "fragment"
    }
   },
   "source": [
    "...but we have other tools to use"
   ]
  },
  {
   "cell_type": "markdown",
   "metadata": {
    "ExecuteTime": {
     "end_time": "2017-06-23T15:17:57.331336Z",
     "start_time": "2017-06-23T17:17:57.326067+02:00"
    },
    "slideshow": {
     "slide_type": "subslide"
    }
   },
   "source": [
    "Free open-source tools\n",
    "* [Szeged NER](http://www.inf.u-szeged.hu/rgai/NER)\n",
    "* [HunTag](https://github.com/recski/HunTag)\n"
   ]
  },
  {
   "cell_type": "markdown",
   "metadata": {
    "slideshow": {
     "slide_type": "fragment"
    }
   },
   "source": [
    "Build your model from on of these corpora\n",
    "* [Szeged NER corpus](http://rgai.inf.u-szeged.hu/index.php?lang=en&page=corpus_ne)\n",
    "* [hunNERwiki](http://hlt.sztaki.hu/resources/hunnerwiki.html)"
   ]
  },
  {
   "cell_type": "markdown",
   "metadata": {
    "ExecuteTime": {
     "end_time": "2017-06-23T15:19:14.789687Z",
     "start_time": "2017-06-23T17:19:14.784318+02:00"
    },
    "slideshow": {
     "slide_type": "subslide"
    }
   },
   "source": [
    "### +1\n",
    "\n",
    "[HuNLP](https://github.com/oroszgy/hunlp) wraps [`magyarlanc`](http://www.inf.u-szeged.hu/rgai/magyarlanc) and [Szeged NER](http://www.inf.u-szeged.hu/rgai/NER)\n",
    "* merges NER results with the output of magyarlanc\n",
    "* convenient programatic API\n",
    "* REST API\n",
    "* Dockerized"
   ]
  },
  {
   "cell_type": "markdown",
   "metadata": {
    "slideshow": {
     "slide_type": "subslide"
    }
   },
   "source": [
    "### HuNlp in practice"
   ]
  },
  {
   "cell_type": "code",
   "execution_count": 7,
   "metadata": {
    "ExecuteTime": {
     "end_time": "2017-06-25T22:37:27.977080Z",
     "start_time": "2017-06-26T00:36:57.320173+02:00"
    },
    "scrolled": false,
    "slideshow": {
     "slide_type": "subslide"
    }
   },
   "outputs": [
    {
     "data": {
      "text/plain": [
       "[('TASZ-ról', 'ORG'),\n",
       " ('Zsiga Marcellről', 'PER'),\n",
       " ('Fidesz', 'ORG'),\n",
       " ('Fidesz', 'ORG'),\n",
       " ('Zsiga Marcell-sztori', 'ORG'),\n",
       " ('Zsiga Marcellnek', 'PER'),\n",
       " ('Miskolc', 'LOC'),\n",
       " ('Szerencsejáték Zrt.', 'ORG'),\n",
       " ('Szerencsejáték Zrt.', 'ORG'),\n",
       " ('TASZ', 'ORG'),\n",
       " ('Fedák Sári', 'PER'),\n",
       " ('TASZ', 'ORG'),\n",
       " ('Strasbourgba', 'LOC'),\n",
       " ('TASZ', 'ORG'),\n",
       " ('Zsiga Marcell', 'PER'),\n",
       " ('TASZ', 'ORG'),\n",
       " ('Orbán Viktort', 'PER'),\n",
       " ('Magyarországon', 'LOC')]"
      ]
     },
     "execution_count": 7,
     "metadata": {},
     "output_type": "execute_result"
    }
   ],
   "source": [
    "from hunlp import HuNlp\n",
    "\n",
    "text = open(\"./data/hvg_cikk.txt\").read()\n",
    "nlp = HuNlp()\n",
    "doc = nlp(text)\n",
    "list(doc.entities)"
   ]
  },
  {
   "cell_type": "code",
   "execution_count": 8,
   "metadata": {
    "ExecuteTime": {
     "end_time": "2017-06-25T22:37:28.020910Z",
     "start_time": "2017-06-26T00:37:27.991616+02:00"
    },
    "slideshow": {
     "slide_type": "subslide"
    }
   },
   "outputs": [
    {
     "name": "stdout",
     "output_type": "stream",
     "text": [
      "TASZ-ról I-ORG\n",
      "Zsiga I-PER\n",
      "Marcellről I-PER\n",
      "Fidesz I-ORG\n",
      "Fidesz I-ORG\n",
      "Zsiga I-ORG\n",
      "Marcell-sztori I-ORG\n",
      "Zsiga I-PER\n",
      "Marcellnek I-PER\n",
      "Miskolc I-LOC\n",
      "Szerencsejáték I-ORG\n",
      "Zrt. I-ORG\n",
      "TASZ I-ORG\n",
      "Fedák I-PER\n",
      "Sári I-PER\n",
      "TASZ I-ORG\n",
      "Strasbourgba I-LOC\n",
      "TASZ I-ORG\n",
      "Zsiga I-PER\n",
      "Marcell I-PER\n",
      "TASZ I-ORG\n",
      "Orbán I-PER\n",
      "Viktort I-PER\n",
      "Magyarországon I-LOC\n"
     ]
    }
   ],
   "source": [
    "for sent in doc:\n",
    "    for tok in sent:\n",
    "        if tok.entity_type != \"O\":\n",
    "            print(tok.text, tok.entity_type)"
   ]
  },
  {
   "cell_type": "code",
   "execution_count": 9,
   "metadata": {
    "ExecuteTime": {
     "end_time": "2017-06-25T22:37:28.035620Z",
     "start_time": "2017-06-26T00:37:28.024123+02:00"
    },
    "slideshow": {
     "slide_type": "subslide"
    }
   },
   "outputs": [
    {
     "name": "stdout",
     "output_type": "stream",
     "text": [
      "1 Így így ADV 2 MODE\n",
      "2 gondozd gondoz VERB 0 ROOT\n",
      "3 a a DET 4 DET\n",
      "4 civiledet civil NOUN 2 OBJ\n"
     ]
    }
   ],
   "source": [
    "for tok in doc[0]:\n",
    "    print(tok.i, tok.text, tok.lemma, tok.tag, tok.head, tok.dep)"
   ]
  },
  {
   "cell_type": "markdown",
   "metadata": {
    "slideshow": {
     "slide_type": "slide"
    }
   },
   "source": [
    "# Wikification"
   ]
  },
  {
   "cell_type": "markdown",
   "metadata": {
    "slideshow": {
     "slide_type": "fragment"
    }
   },
   "source": [
    "Wikification / entity linking / named entity disambiguation is the task of identifying and linking entities to a knowledge base (e.g. Wikipedia)"
   ]
  },
  {
   "cell_type": "markdown",
   "metadata": {
    "slideshow": {
     "slide_type": "subslide"
    }
   },
   "source": [
    "## DBpedia\n",
    "\n",
    "Structured content from Wikipedia"
   ]
  },
  {
   "cell_type": "markdown",
   "metadata": {
    "ExecuteTime": {
     "end_time": "2017-06-23T20:58:53.846839Z",
     "start_time": "2017-06-23T22:58:53.723213+02:00"
    },
    "slideshow": {
     "slide_type": "subslide"
    }
   },
   "source": [
    "Wikipedia infobox\n",
    "<center><img src=\"./img/wikipedia_infobox.png\" alt=\"Sptlight\" style=\"width: 250px;\"/></center>"
   ]
  },
  {
   "cell_type": "markdown",
   "metadata": {
    "slideshow": {
     "slide_type": "subslide"
    }
   },
   "source": [
    "Extracted DBpedia content\n",
    "\n",
    "<center>\n",
    "<img src=\"./img/dbpedia1.png\" alt=\"Sptlight\" style=\"width: 600px;\"/>\n",
    "<img src=\"./img/dbpedia2.png\" alt=\"Sptlight\" style=\"width: 600px;\"/>\n",
    "</center>"
   ]
  },
  {
   "cell_type": "markdown",
   "metadata": {
    "slideshow": {
     "slide_type": "subslide"
    }
   },
   "source": [
    "DBpedia is:\n",
    "\n",
    "* freely accessible and open-source\n",
    "* represented as semantic triples\n",
    "* easily browsable through web or SPARQL interface"
   ]
  },
  {
   "cell_type": "markdown",
   "metadata": {
    "ExecuteTime": {
     "end_time": "2017-06-23T20:52:18.631571Z",
     "start_time": "2017-06-23T22:52:18.627582+02:00"
    },
    "slideshow": {
     "slide_type": "fragment"
    }
   },
   "source": [
    "Most importantly, DBpedia \n",
    "* incorporates multiple ontologies (Yago, Umbel, ...)\n",
    "* is multilingual (with interlinks between languages!)"
   ]
  },
  {
   "cell_type": "markdown",
   "metadata": {
    "ExecuteTime": {
     "end_time": "2017-06-23T20:46:30.856224Z",
     "start_time": "2017-06-23T22:46:30.850815+02:00"
    },
    "slideshow": {
     "slide_type": "subslide"
    }
   },
   "source": [
    "## [DBpedia Spotlight](https://github.com/dbpedia-spotlight/dbpedia-spotlight)\n",
    "\n",
    "... is a tool for automatically annotating mentions of DBpedia/Wikipedia resources in text. ([Demo](http://demo.dbpedia-spotlight.org/))\n",
    "\n",
    "<center><img src=\"./img/spotlight.png\" alt=\"Soptlight\" style=\"width: 600px;\"/></center>"
   ]
  },
  {
   "cell_type": "markdown",
   "metadata": {
    "slideshow": {
     "slide_type": "subslide"
    }
   },
   "source": [
    "Spotlight is trained on Wikipedia & DBpedia, using various features such as\n",
    "\n",
    "* disrtribution of anchor words\n",
    "* cooccurrences of concepts\n",
    "* contexts of interlinks"
   ]
  },
  {
   "cell_type": "markdown",
   "metadata": {
    "slideshow": {
     "slide_type": "subslide"
    }
   },
   "source": [
    "### Why is it so interesting?"
   ]
  },
  {
   "cell_type": "markdown",
   "metadata": {
    "ExecuteTime": {
     "end_time": "2017-06-23T21:05:27.762400Z",
     "start_time": "2017-06-23T23:05:27.756286+02:00"
    },
    "slideshow": {
     "slide_type": "fragment"
    }
   },
   "source": [
    "It could be used for\n",
    "\n",
    "* finding/disambiguating Named Entities\n",
    "* extracting topics from raw text"
   ]
  },
  {
   "cell_type": "code",
   "execution_count": 10,
   "metadata": {
    "ExecuteTime": {
     "end_time": "2017-06-25T22:37:28.105154Z",
     "start_time": "2017-06-26T00:37:28.038772+02:00"
    },
    "collapsed": true,
    "slideshow": {
     "slide_type": "subslide"
    }
   },
   "outputs": [],
   "source": [
    "import spotlight"
   ]
  },
  {
   "cell_type": "code",
   "execution_count": 11,
   "metadata": {
    "ExecuteTime": {
     "end_time": "2017-06-25T22:37:28.300423Z",
     "start_time": "2017-06-26T00:37:28.108802+02:00"
    },
    "slideshow": {
     "slide_type": "fragment"
    }
   },
   "outputs": [
    {
     "data": {
      "text/plain": [
       "[{'URI': 'http://hu.dbpedia.org/resource/Fidesz_–_Magyar_Polgári_Szövetség',\n",
       "  'offset': 130,\n",
       "  'percentageOfSecondRank': 0.0,\n",
       "  'similarityScore': 1.0,\n",
       "  'support': 937,\n",
       "  'surfaceForm': 'Fidesz',\n",
       "  'types': 'DBpedia:Agent,Schema:Organization,DBpedia:Organisation,DBpedia:PoliticalParty'},\n",
       " {'URI': 'http://hu.dbpedia.org/resource/Fidesz_–_Magyar_Polgári_Szövetség',\n",
       "  'offset': 333,\n",
       "  'percentageOfSecondRank': 0.0,\n",
       "  'similarityScore': 1.0,\n",
       "  'support': 937,\n",
       "  'surfaceForm': 'Fidesz',\n",
       "  'types': 'DBpedia:Agent,Schema:Organization,DBpedia:Organisation,DBpedia:PoliticalParty'},\n",
       " {'URI': 'http://hu.dbpedia.org/resource/Miskolc',\n",
       "  'offset': 893,\n",
       "  'percentageOfSecondRank': 3.8197350632819025e-21,\n",
       "  'similarityScore': 1.0,\n",
       "  'support': 2851,\n",
       "  'surfaceForm': 'Miskolc',\n",
       "  'types': 'Schema:Place,DBpedia:Place,DBpedia:PopulatedPlace,DBpedia:Settlement'},\n",
       " {'URI': 'http://hu.dbpedia.org/resource/Strasbourg',\n",
       "  'offset': 2323,\n",
       "  'percentageOfSecondRank': 4.833194969505155e-15,\n",
       "  'similarityScore': 1.0,\n",
       "  'support': 472,\n",
       "  'surfaceForm': 'Strasbourgba',\n",
       "  'types': 'Schema:Place,DBpedia:Place,DBpedia:PopulatedPlace,DBpedia:Settlement'},\n",
       " {'URI': 'http://hu.dbpedia.org/resource/Strasbourg',\n",
       "  'offset': 2643,\n",
       "  'percentageOfSecondRank': 0.0,\n",
       "  'similarityScore': 1.0,\n",
       "  'support': 472,\n",
       "  'surfaceForm': 'strasbourgi',\n",
       "  'types': 'Schema:Place,DBpedia:Place,DBpedia:PopulatedPlace,DBpedia:Settlement'},\n",
       " {'URI': 'http://hu.dbpedia.org/resource/Orbán_Viktor',\n",
       "  'offset': 3784,\n",
       "  'percentageOfSecondRank': 0.0,\n",
       "  'similarityScore': 1.0,\n",
       "  'support': 302,\n",
       "  'surfaceForm': 'Orbán Viktort',\n",
       "  'types': 'DBpedia:Agent,Schema:Person,Http://xmlns.com/foaf/0.1/Person,DBpedia:Person,DBpedia:Politician'},\n",
       " {'URI': 'http://hu.dbpedia.org/resource/Magyarország',\n",
       "  'offset': 4000,\n",
       "  'percentageOfSecondRank': 2.538877850184772e-19,\n",
       "  'similarityScore': 1.0,\n",
       "  'support': 19613,\n",
       "  'surfaceForm': 'Magyarországon',\n",
       "  'types': 'Schema:Place,DBpedia:Place,DBpedia:PopulatedPlace,Schema:Country,DBpedia:Country'}]"
      ]
     },
     "execution_count": 11,
     "metadata": {},
     "output_type": "execute_result"
    }
   ],
   "source": [
    "spotlight.annotate('http://spotlight.sztaki.hu:2229/rest/annotate', text, support=200, confidence=0.4)"
   ]
  },
  {
   "cell_type": "markdown",
   "metadata": {
    "slideshow": {
     "slide_type": "slide"
    }
   },
   "source": [
    "# Closing remarks"
   ]
  },
  {
   "cell_type": "markdown",
   "metadata": {
    "slideshow": {
     "slide_type": "subslide"
    }
   },
   "source": [
    "## Summary"
   ]
  },
  {
   "cell_type": "markdown",
   "metadata": {
    "ExecuteTime": {
     "end_time": "2017-06-24T08:52:33.871770Z",
     "start_time": "2017-06-24T10:52:33.866833+02:00"
    },
    "slideshow": {
     "slide_type": "fragment"
    }
   },
   "source": [
    "Now you are able to\n",
    "\n",
    "* extract frequent terms and keyphrases, visualize them\n",
    "* perform basic NLP tasks on Hungarian texts\n",
    "* build a simple topic classifier\n",
    "* automatically analyze sentiment of tweets\n",
    "* identify and classify named entities"
   ]
  },
  {
   "cell_type": "markdown",
   "metadata": {
    "ExecuteTime": {
     "end_time": "2017-06-25T22:18:46.735350Z",
     "start_time": "2017-06-26T00:18:46.731552+02:00"
    },
    "slideshow": {
     "slide_type": "fragment"
    }
   },
   "source": [
    "### Congrats! :)"
   ]
  },
  {
   "cell_type": "markdown",
   "metadata": {
    "ExecuteTime": {
     "end_time": "2017-06-25T22:22:18.153076Z",
     "start_time": "2017-06-26T00:22:17.970607+02:00"
    },
    "slideshow": {
     "slide_type": "slide"
    }
   },
   "source": [
    "![DT](./img/hat.png)"
   ]
  },
  {
   "cell_type": "markdown",
   "metadata": {
    "slideshow": {
     "slide_type": "subslide"
    }
   },
   "source": [
    "* Some of the tools presented are in a very early development phase, use them with caution!\n",
    "* Bug reports, PRs are always welcome :)"
   ]
  },
  {
   "cell_type": "markdown",
   "metadata": {
    "slideshow": {
     "slide_type": "fragment"
    }
   },
   "source": [
    "If interested in even more open-source Hungarian NLP tools, look around [in this document](https://github.com/oroszgy/awesome-hungarian-nlp/) "
   ]
  },
  {
   "cell_type": "code",
   "execution_count": 15,
   "metadata": {
    "ExecuteTime": {
     "end_time": "2017-06-25T22:38:52.745287Z",
     "start_time": "2017-06-26T00:38:52.693123+02:00"
    },
    "slideshow": {
     "slide_type": "fragment"
    }
   },
   "outputs": [
    {
     "data": {
      "text/plain": [
       "0.43310518631361922"
      ]
     },
     "execution_count": 15,
     "metadata": {},
     "output_type": "execute_result"
    }
   ],
   "source": [
    "enlp(\"Thank you\").similarity(enlp(\"Bye\"))"
   ]
  },
  {
   "cell_type": "code",
   "execution_count": null,
   "metadata": {
    "collapsed": true
   },
   "outputs": [],
   "source": []
  }
 ],
 "metadata": {
  "celltoolbar": "Slideshow",
  "kernelspec": {
   "display_name": "Python [default]",
   "language": "python",
   "name": "python3"
  },
  "language_info": {
   "codemirror_mode": {
    "name": "ipython",
    "version": 3
   },
   "file_extension": ".py",
   "mimetype": "text/x-python",
   "name": "python",
   "nbconvert_exporter": "python",
   "pygments_lexer": "ipython3",
   "version": "3.6.1"
  },
  "latex_envs": {
   "LaTeX_envs_menu_present": true,
   "bibliofile": "biblio.bib",
   "cite_by": "apalike",
   "current_citInitial": 1,
   "eqLabelWithNumbers": true,
   "eqNumInitial": 1,
   "hotkeys": {
    "equation": "Ctrl-E",
    "itemize": "Ctrl-I"
   },
   "labels_anchors": false,
   "latex_user_defs": false,
   "report_style_numbering": false,
   "user_envs_cfg": false
  }
 },
 "nbformat": 4,
 "nbformat_minor": 2
}
